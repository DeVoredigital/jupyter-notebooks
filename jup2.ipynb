{
 "cells": [
  {
   "cell_type": "markdown",
   "metadata": {},
   "source": [
    "## Methods & More"
   ]
  },
  {
   "cell_type": "code",
   "execution_count": null,
   "metadata": {
    "dotnet_interactive": {
     "language": "csharp"
    },
    "vscode": {
     "languageId": "dotnet-interactive.csharp"
    }
   },
   "outputs": [
    {
     "data": {
      "text/plain": [
       "Grade for this year: 0,90"
      ]
     },
     "metadata": {},
     "output_type": "display_data"
    },
    {
     "data": {
      "text/plain": [
       "Grade for 2019: 0,90"
      ]
     },
     "metadata": {},
     "output_type": "display_data"
    }
   ],
   "source": [
    "class Student {\n",
    "    \n",
    "    public void Enroll() {\n",
    "        // do enrollment steps\n",
    "    }\n",
    "\n",
    "    // This signature assumes calculating the grade for a class THIS YEAR\n",
    "    public decimal CalculateGradeForClass(string className) {\n",
    "        \n",
    "        // Let's delegate the calculation to the OTHER implementation of CalculateGradeForClass and pass this year\n",
    "        return CalculateGradeForClass(className, DateTime.Now.Year);\n",
    "        \n",
    "    }\n",
    "\n",
    "    public decimal CalculateGradeForClass(int yearEnrolled) {\n",
    "        \n",
    "        return 0.8m; //CalculateGradeForClass(className, DateTime.Now.Year);\n",
    "        \n",
    "    }\n",
    "    \n",
    "    // public decimal CalculateGradeForClass(int classScheduleBlock) {\n",
    "        \n",
    "    //     return 0.8m; //CalculateGradeForClass(className, DateTime.Now.Year);\n",
    "        \n",
    "    // }\n",
    "    \n",
    "\n",
    "    public decimal CalculateGradeForClass(string className, int yearEnrolled) {\n",
    "        \n",
    "        // grade calculation code\n",
    "        \n",
    "        return 0.90m;\n",
    "        \n",
    "    }\n",
    "    \n",
    "    public class Grade {\n",
    "        \n",
    "        public string NameOfClass { get; set; }\n",
    "        \n",
    "    }\n",
    "    \n",
    "}\n",
    "\n",
    "var s = new Student();\n",
    "display(\"Grade for this year: \" + s.CalculateGradeForClass(\"Quantum Physics\"));\n",
    "display(\"Grade for 2019: \" + s.CalculateGradeForClass(\"Quantum Physics\", 2019));"
   ]
  },
  {
   "cell_type": "code",
   "execution_count": null,
   "metadata": {
    "dotnet_interactive": {
     "language": "csharp"
    },
    "vscode": {
     "languageId": "dotnet-interactive.csharp"
    }
   },
   "outputs": [
    {
     "data": {
      "text/plain": [
       "Calculating GPA for year 2019"
      ]
     },
     "metadata": {},
     "output_type": "display_data"
    },
    {
     "data": {
      "text/plain": [
       "Calculating for class Algebra"
      ]
     },
     "metadata": {},
     "output_type": "display_data"
    },
    {
     "data": {
      "text/plain": [
       "Calculating for class History"
      ]
     },
     "metadata": {},
     "output_type": "display_data"
    },
    {
     "data": {
      "text/plain": [
       "Calculating for class Computer Science"
      ]
     },
     "metadata": {},
     "output_type": "display_data"
    },
    {
     "data": {
      "text/html": [
       "<div class=\"dni-plaintext\">0.9</div>"
      ]
     },
     "metadata": {},
     "output_type": "display_data"
    },
    {
     "data": {
      "text/plain": [
       "Calculating GPA for year 2020"
      ]
     },
     "metadata": {},
     "output_type": "display_data"
    },
    {
     "data": {
      "text/plain": [
       "Calculating for class Algebra"
      ]
     },
     "metadata": {},
     "output_type": "display_data"
    },
    {
     "data": {
      "text/plain": [
       "Calculating for class History"
      ]
     },
     "metadata": {},
     "output_type": "display_data"
    },
    {
     "data": {
      "text/plain": [
       "Calculating for class Computer Science"
      ]
     },
     "metadata": {},
     "output_type": "display_data"
    },
    {
     "data": {
      "text/html": [
       "<div class=\"dni-plaintext\">0.9</div>"
      ]
     },
     "metadata": {},
     "output_type": "display_data"
    },
    {
     "data": {
      "text/plain": [
       "Calculating GPA for all classes in the year 2022"
      ]
     },
     "metadata": {},
     "output_type": "display_data"
    },
    {
     "data": {
      "text/plain": [
       "Calculating GPA for year 2022"
      ]
     },
     "metadata": {},
     "output_type": "display_data"
    },
    {
     "data": {
      "text/plain": [
       "Calculating for class Art2"
      ]
     },
     "metadata": {},
     "output_type": "display_data"
    },
    {
     "data": {
      "text/plain": [
       "Calculating for class History"
      ]
     },
     "metadata": {},
     "output_type": "display_data"
    },
    {
     "data": {
      "text/plain": [
       "Calculating for class Physics"
      ]
     },
     "metadata": {},
     "output_type": "display_data"
    },
    {
     "data": {
      "text/html": [
       "<div class=\"dni-plaintext\">0.9</div>"
      ]
     },
     "metadata": {},
     "output_type": "display_data"
    }
   ],
   "source": [
    "class Student {\n",
    "    \n",
    "    public decimal CalculateGradePointAverage(\n",
    "        short enrollmentYear = 2020, \n",
    "        params string[] classes) {\n",
    "\n",
    "        display(\"Calculating GPA for year \" + enrollmentYear);\n",
    "        \n",
    "        foreach(var c in classes) {\n",
    "            display(\"Calculating for class \" + c);\n",
    "        }\n",
    "        \n",
    "        return 0.9m;\n",
    "        \n",
    "    }\n",
    "    \n",
    "    public decimal CalculateGradePointAverage(\n",
    "        short enrollmentYear = 0) {\n",
    "        \n",
    "        if (enrollmentYear == 0) enrollmentYear = (short)DateTime.Now.Year;\n",
    "        \n",
    "        display(\"Calculating GPA for all classes in the year \" + enrollmentYear);\n",
    "        \n",
    "        return CalculateGradePointAverage(enrollmentYear, \"Art\", \"History\", \"Physics\");\n",
    "        \n",
    "    }\n",
    "    \n",
    "}\n",
    "\n",
    "var s = new Student();\n",
    "display(s.CalculateGradePointAverage(2019, \"Algebra\", \"History\", \"Computer Science\"));\n",
    "display(s.CalculateGradePointAverage(classes: new [] {\"Algebra\", \"History\", \"Computer Science\"}));\n",
    "display(s.CalculateGradePointAverage());"
   ]
  }
 ],
 "metadata": {
  "kernelspec": {
   "display_name": ".NET (C#)",
   "language": "C#",
   "name": ".net-csharp"
  },
  "language_info": {
   "file_extension": ".cs",
   "mimetype": "text/x-csharp",
   "name": "C#",
   "pygments_lexer": "csharp",
   "version": "9.0"
  },
  "orig_nbformat": 4
 },
 "nbformat": 4,
 "nbformat_minor": 2
}
